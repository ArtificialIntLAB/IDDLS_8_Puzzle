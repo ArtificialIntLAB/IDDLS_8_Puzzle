{
 "cells": [
  {
   "cell_type": "markdown",
   "id": "915af1af",
   "metadata": {},
   "source": [
    "# IDDLS"
   ]
  },
  {
   "cell_type": "code",
   "execution_count": 1,
   "id": "aab61622",
   "metadata": {},
   "outputs": [],
   "source": [
    "import sys\n",
    "def find_empty_tile(state):\n",
    "    for i in range(3):\n",
    "        for j in range(3):\n",
    "            if state[i][j]==0:\n",
    "                return i,j\n",
    "class Node:\n",
    "    def __init__(self,state,parent=None,action=None,depth=0):\n",
    "        self.state=state\n",
    "        self.parent=parent\n",
    "        self.action=action\n",
    "        self.depth=depth\n",
    "class Problem:\n",
    "    def __init__(self,initial_state):\n",
    "        self.initial_state=initial_state\n",
    "    def goal_test(self,state):\n",
    "        return state==[[1,2,3],[4,5,6],[7,8,0]]\n",
    "    def actions(self,state):\n",
    "        i,j=find_empty_tile(state)\n",
    "        actions=[]\n",
    "        if(i>0):\n",
    "            actions.append('up')\n",
    "        if(i<2):\n",
    "            actions.append('down')\n",
    "        if(j>0):\n",
    "            actions.append('left')\n",
    "        if(j<2):\n",
    "            actions.append('right')\n",
    "        return actions\n",
    "    def result(self,state,action):\n",
    "        return construct_state(state,action)"
   ]
  },
  {
   "cell_type": "code",
   "execution_count": 2,
   "id": "b038a469",
   "metadata": {},
   "outputs": [],
   "source": [
    "def construct_state(state,action):\n",
    "    i,j=find_empty_tile(state)\n",
    "    if (i==0 and action=='up') or (i==2 and action=='down') or (j==0 and action=='left') or (j==2 and action=='right'):\n",
    "        return None\n",
    "    else:\n",
    "        newState=list(map(list,state))\n",
    "        if action=='up':\n",
    "            newState[i][j],newState[i-1][j]=newState[i-1][j],newState[i][j]\n",
    "        if action=='down':\n",
    "            newState[i][j],newState[i+1][j]=newState[i+1][j],newState[i][j]\n",
    "        if action=='left':\n",
    "            newState[i][j],newState[i][j-1]=newState[i][j-1],newState[i][j]\n",
    "        if action=='right':\n",
    "            newState[i][j],newState[i][j+1]=newState[i][j+1],newState[i][j]\n",
    "        return list(map(list,newState))"
   ]
  },
  {
   "cell_type": "code",
   "execution_count": 3,
   "id": "d1d5f0eb",
   "metadata": {},
   "outputs": [],
   "source": [
    "def print_solution(node):\n",
    "    if node.parent is not None:\n",
    "        print_solution(node.parent)\n",
    "    print(node.state,'--->',node.action)"
   ]
  },
  {
   "cell_type": "code",
   "execution_count": 4,
   "id": "c9ccca85",
   "metadata": {},
   "outputs": [],
   "source": [
    "def iterative_deepening_search(problem):\n",
    "    for depth in range(sys.maxsize):\n",
    "        result=depth_limited_search(problem,depth)\n",
    "        if result!='cutoff':\n",
    "            return result\n",
    "def depth_limited_search(problem,limit):\n",
    "    return recursive_dls(Node(problem.initial_state),problem,limit)\n",
    "def recursive_dls(node,problem,limit):\n",
    "    if problem.goal_test(node.state):\n",
    "        return node\n",
    "    elif limit==0:\n",
    "        return 'cutoff'\n",
    "    else:\n",
    "        cutoff_occurred=False\n",
    "        for action in problem.actions(node.state):\n",
    "            child=Node(problem.result(node.state,action),node,action,node.depth+1)\n",
    "            result=recursive_dls(child,problem,limit-1)\n",
    "            if result=='cutoff':\n",
    "                cutoff_occurred=True\n",
    "            elif result is not None:\n",
    "                return result\n",
    "        if cutoff_occurred:\n",
    "            return 'cutoff'\n",
    "        else:\n",
    "            return None"
   ]
  },
  {
   "cell_type": "code",
   "execution_count": 5,
   "id": "f3639d03",
   "metadata": {},
   "outputs": [
    {
     "name": "stdout",
     "output_type": "stream",
     "text": [
      "[[2, 3, 8], [1, 6, 4], [7, 0, 5]] ---> None\n",
      "[[2, 3, 8], [1, 0, 4], [7, 6, 5]] ---> up\n",
      "[[2, 3, 8], [1, 4, 0], [7, 6, 5]] ---> right\n",
      "[[2, 3, 0], [1, 4, 8], [7, 6, 5]] ---> up\n",
      "[[2, 0, 3], [1, 4, 8], [7, 6, 5]] ---> left\n",
      "[[0, 2, 3], [1, 4, 8], [7, 6, 5]] ---> left\n",
      "[[1, 2, 3], [0, 4, 8], [7, 6, 5]] ---> down\n",
      "[[1, 2, 3], [4, 0, 8], [7, 6, 5]] ---> right\n",
      "[[1, 2, 3], [4, 6, 8], [7, 0, 5]] ---> down\n",
      "[[1, 2, 3], [4, 6, 8], [7, 5, 0]] ---> right\n",
      "[[1, 2, 3], [4, 6, 0], [7, 5, 8]] ---> up\n",
      "[[1, 2, 3], [4, 0, 6], [7, 5, 8]] ---> left\n",
      "[[1, 2, 3], [4, 5, 6], [7, 0, 8]] ---> down\n",
      "[[1, 2, 3], [4, 5, 6], [7, 8, 0]] ---> right\n"
     ]
    }
   ],
   "source": [
    "initial_state=[[2,3,8],[1,6,4],[7,0,5]]\n",
    "problem=Problem(initial_state)\n",
    "solution=iterative_deepening_search(problem)\n",
    "if solution is not None:\n",
    "    print_solution(solution)\n",
    "else:\n",
    "    print(\"No Solution Found\")"
   ]
  },
  {
   "cell_type": "code",
   "execution_count": null,
   "id": "e61e907a",
   "metadata": {},
   "outputs": [],
   "source": []
  }
 ],
 "metadata": {
  "kernelspec": {
   "display_name": "Python 3 (ipykernel)",
   "language": "python",
   "name": "python3"
  },
  "language_info": {
   "codemirror_mode": {
    "name": "ipython",
    "version": 3
   },
   "file_extension": ".py",
   "mimetype": "text/x-python",
   "name": "python",
   "nbconvert_exporter": "python",
   "pygments_lexer": "ipython3",
   "version": "3.9.12"
  }
 },
 "nbformat": 4,
 "nbformat_minor": 5
}
